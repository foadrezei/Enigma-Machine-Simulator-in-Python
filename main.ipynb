{
  "nbformat": 4,
  "nbformat_minor": 0,
  "metadata": {
    "colab": {
      "provenance": [],
      "authorship_tag": "ABX9TyPL4quKMmTe9zyt4KI45ve0",
      "include_colab_link": true
    },
    "kernelspec": {
      "name": "python3",
      "display_name": "Python 3"
    },
    "language_info": {
      "name": "python"
    }
  },
  "cells": [
    {
      "cell_type": "markdown",
      "metadata": {
        "id": "view-in-github",
        "colab_type": "text"
      },
      "source": [
        "<a href=\"https://colab.research.google.com/github/foadrezei/Enigma-Machine-Simulator-in-Python/blob/main/main.ipynb\" target=\"_parent\"><img src=\"https://colab.research.google.com/assets/colab-badge.svg\" alt=\"Open In Colab\"/></a>"
      ]
    },
    {
      "cell_type": "code",
      "execution_count": null,
      "metadata": {
        "id": "AQCaedD5pL8Q"
      },
      "outputs": [],
      "source": [
        "\"\"\"\n",
        "Main script to run the Enigma Machine simulator\n",
        "Author: Foad Rezaei\n",
        "\"\"\"\n",
        "\n",
        "from enigma import EnigmaMachine\n",
        "\n",
        "def main():\n",
        "    print(\"Enigma Machine Simulator\")\n",
        "    print(\"------------------------\")\n",
        "\n",
        "    # Get user input for rotor settings\n",
        "    print(\"Enter initial rotor positions (0-25 for each rotor, space-separated):\")\n",
        "    rotor_settings = list(map(int, input(\"e.g., 0 0 0: \").split()))\n",
        "    if len(rotor_settings) != 3:\n",
        "        print(\"Error: Please provide exactly 3 rotor positions.\")\n",
        "        return\n",
        "\n",
        "    # Get user input for plugboard settings\n",
        "    print(\"Enter plugboard settings (letter pairs to swap, space-separated):\")\n",
        "    print(\"e.g., AB CD (swaps A with B, C with D)\")\n",
        "    plugboard_input = input().strip().upper()\n",
        "    plugboard_settings = []\n",
        "    if plugboard_input:\n",
        "        pairs = plugboard_input.split()\n",
        "        for pair in pairs:\n",
        "            if len(pair) == 2 and pair[0] in \"ABCDEFGHIJKLMNOPQRSTUVWXYZ\" and pair[1] in \"ABCDEFGHIJKLMNOPQRSTUVWXYZ\":\n",
        "                plugboard_settings.append((pair[0], pair[1]))\n",
        "            else:\n",
        "                print(f\"Invalid pair: {pair}. Skipping.\")\n",
        "\n",
        "    # Initialize the Enigma machine\n",
        "    enigma = EnigmaMachine(rotor_settings, plugboard_settings)\n",
        "\n",
        "    # Get the message to encrypt/decrypt\n",
        "    print(\"Enter a message to encrypt/decrypt (letters only):\")\n",
        "    message = input().strip().upper()\n",
        "\n",
        "    # Encrypt the message\n",
        "    encrypted = enigma.encrypt(message)\n",
        "    print(f\"\\nOriginal Message: {message}\")\n",
        "    print(f\"Encrypted Message: {encrypted}\")\n",
        "\n",
        "    # Decrypt the message (reset rotor positions)\n",
        "    enigma = EnigmaMachine(rotor_settings, plugboard_settings)\n",
        "    decrypted = enigma.encrypt(encrypted)\n",
        "    print(f\"Decrypted Message: {decrypted}\")\n",
        "\n",
        "if __name__ == \"__main__\":\n",
        "    main()"
      ]
    }
  ]
}